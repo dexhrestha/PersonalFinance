{
 "cells": [
  {
   "cell_type": "code",
   "execution_count": 1,
   "metadata": {},
   "outputs": [
    {
     "name": "stdout",
     "output_type": "stream",
     "text": [
      "Requirement already satisfied: pandas in /Users/dexhrestha/anaconda3/envs/api/lib/python3.12/site-packages (2.2.2)\n",
      "Requirement already satisfied: openpyxl in /Users/dexhrestha/anaconda3/envs/api/lib/python3.12/site-packages (3.1.4)\n",
      "Requirement already satisfied: sqlalchemy in /Users/dexhrestha/anaconda3/envs/api/lib/python3.12/site-packages (2.0.31)\n",
      "Collecting pymysql\n",
      "  Downloading PyMySQL-1.1.1-py3-none-any.whl.metadata (4.4 kB)\n",
      "Requirement already satisfied: numpy>=1.26.0 in /Users/dexhrestha/anaconda3/envs/api/lib/python3.12/site-packages (from pandas) (1.26.4)\n",
      "Requirement already satisfied: python-dateutil>=2.8.2 in /Users/dexhrestha/anaconda3/envs/api/lib/python3.12/site-packages (from pandas) (2.9.0)\n",
      "Requirement already satisfied: pytz>=2020.1 in /Users/dexhrestha/anaconda3/envs/api/lib/python3.12/site-packages (from pandas) (2024.1)\n",
      "Requirement already satisfied: tzdata>=2022.7 in /Users/dexhrestha/anaconda3/envs/api/lib/python3.12/site-packages (from pandas) (2024.1)\n",
      "Requirement already satisfied: et-xmlfile in /Users/dexhrestha/anaconda3/envs/api/lib/python3.12/site-packages (from openpyxl) (1.1.0)\n",
      "Requirement already satisfied: typing-extensions>=4.6.0 in /Users/dexhrestha/anaconda3/envs/api/lib/python3.12/site-packages (from sqlalchemy) (4.10.0)\n",
      "Requirement already satisfied: six>=1.5 in /Users/dexhrestha/anaconda3/envs/api/lib/python3.12/site-packages (from python-dateutil>=2.8.2->pandas) (1.16.0)\n",
      "Downloading PyMySQL-1.1.1-py3-none-any.whl (44 kB)\n",
      "\u001b[2K   \u001b[90m━━━━━━━━━━━━━━━━━━━━━━━━━━━━━━━━━━━━━━━━\u001b[0m \u001b[32m45.0/45.0 kB\u001b[0m \u001b[31m2.3 MB/s\u001b[0m eta \u001b[36m0:00:00\u001b[0m\n",
      "\u001b[?25hInstalling collected packages: pymysql\n",
      "Successfully installed pymysql-1.1.1\n"
     ]
    }
   ],
   "source": [
    "! pip install pandas openpyxl sqlalchemy pymysql"
   ]
  },
  {
   "cell_type": "code",
   "execution_count": 2,
   "metadata": {},
   "outputs": [
    {
     "name": "stdout",
     "output_type": "stream",
     "text": [
      "Connection to the PostgreSQL database established successfully.\n"
     ]
    }
   ],
   "source": [
    "# load excel to sql\n",
    "\n",
    "from sqlalchemy import create_engine\n",
    "\n",
    "# PostgreSQL connection details from the provided environment variables\n",
    "project_name = 'magic-zoomcamp'\n",
    "db_name = 'postgres'\n",
    "\n",
    "user = 'postgres'\n",
    "password = 'postgres'\n",
    "host = '192.168.0.84'\n",
    "port = '5432'\n",
    "\n",
    "# Create connection string\n",
    "connection_string = f\"postgresql+psycopg2://{user}:{password}@{host}:{port}/{db_name}\"\n",
    "\n",
    "# Create an engine instance\n",
    "engine = create_engine(connection_string)\n",
    "\n",
    "# Test the connection\n",
    "with engine.connect() as connection:\n",
    "    print(\"Connection to the PostgreSQL database established successfully.\")\n"
   ]
  },
  {
   "cell_type": "code",
   "execution_count": 72,
   "metadata": {},
   "outputs": [
    {
     "name": "stdout",
     "output_type": "stream",
     "text": [
      "Excel files found: ['../enriched/enriched_Statement_3_2024.xlsx', '../enriched/enriched_Statement_4_2023.xlsx', '../enriched/enriched_Statement_9_2023.xlsx', '../enriched/enriched_Statement_12_2023.xlsx', '../enriched/enriched_Statement_5_2024.xlsx', '../enriched/enriched_Statement_2_2023.xlsx', '../enriched/enriched_Statement_2_2024.xlsx', '../enriched/enriched_Statement_5_2023.xlsx', '../enriched/enriched_Statement_8_2023.xlsx', '../enriched/enriched_Statement_4_2024.xlsx', '../enriched/enriched_Statement_3_2023.xlsx', '../enriched/enriched_Statement_6_2023.xlsx', '../enriched/enriched_Statement_1_2024.xlsx', '../enriched/enriched_Statement_10_2023.xlsx', '../enriched/enriched_Statement_7_2023.xlsx', '../enriched/enriched_Statement_1_2023.xlsx', '../enriched/enriched_Statement_6_2024.xlsx', '../enriched/enriched_Statement_11_2023.xlsx']\n"
     ]
    }
   ],
   "source": [
    "import os\n",
    "# Directory containing Excel files\n",
    "excel_folder_path = '../enriched/'\n",
    "\n",
    "# Get a list of all Excel files in the folder\n",
    "excel_files = [os.path.join(excel_folder_path,f) for f in os.listdir(excel_folder_path) if f.endswith('.xlsx') or f.endswith('.xls')]\n",
    "\n",
    "print(\"Excel files found:\",excel_files)"
   ]
  },
  {
   "cell_type": "code",
   "execution_count": 73,
   "metadata": {},
   "outputs": [
    {
     "data": {
      "text/plain": [
       "['../enriched/enriched_Statement_3_2024.xlsx',\n",
       " '../enriched/enriched_Statement_4_2023.xlsx',\n",
       " '../enriched/enriched_Statement_9_2023.xlsx',\n",
       " '../enriched/enriched_Statement_12_2023.xlsx',\n",
       " '../enriched/enriched_Statement_5_2024.xlsx',\n",
       " '../enriched/enriched_Statement_2_2023.xlsx',\n",
       " '../enriched/enriched_Statement_2_2024.xlsx',\n",
       " '../enriched/enriched_Statement_5_2023.xlsx',\n",
       " '../enriched/enriched_Statement_8_2023.xlsx',\n",
       " '../enriched/enriched_Statement_4_2024.xlsx',\n",
       " '../enriched/enriched_Statement_3_2023.xlsx',\n",
       " '../enriched/enriched_Statement_6_2023.xlsx',\n",
       " '../enriched/enriched_Statement_1_2024.xlsx',\n",
       " '../enriched/enriched_Statement_10_2023.xlsx',\n",
       " '../enriched/enriched_Statement_7_2023.xlsx',\n",
       " '../enriched/enriched_Statement_1_2023.xlsx',\n",
       " '../enriched/enriched_Statement_6_2024.xlsx',\n",
       " '../enriched/enriched_Statement_11_2023.xlsx']"
      ]
     },
     "execution_count": 73,
     "metadata": {},
     "output_type": "execute_result"
    }
   ],
   "source": [
    "excel_files"
   ]
  },
  {
   "cell_type": "code",
   "execution_count": 74,
   "metadata": {},
   "outputs": [],
   "source": [
    "import pandas as pd\n",
    "\n",
    "# Replace 'your_excel_file.xlsx' with the path to your Excel file\n",
    "# excel_file_path = '../enriched/enriched_Statement_1_2023.xlsx'\n",
    "df = pd.concat([pd.read_excel(excel_file) for excel_file in excel_files])\n",
    "# pd.read_excel(excel_files)"
   ]
  },
  {
   "cell_type": "code",
   "execution_count": 75,
   "metadata": {},
   "outputs": [],
   "source": [
    "df.columns = ['transaction_date',  'description', 'category',\n",
    "       'type', 'money_in', 'money_out', 'balance']"
   ]
  },
  {
   "cell_type": "code",
   "execution_count": 76,
   "metadata": {},
   "outputs": [],
   "source": [
    "df['year'] = df['transaction_date'].dt.year\n",
    "df['month'] = df['transaction_date'].dt.month\n",
    "df['day'] = df['transaction_date'].dt.day\n"
   ]
  },
  {
   "cell_type": "code",
   "execution_count": 77,
   "metadata": {},
   "outputs": [
    {
     "name": "stdout",
     "output_type": "stream",
     "text": [
      "Data has been successfully loaded into the 'statements_enriched.lloyds_enriched' table.\n"
     ]
    }
   ],
   "source": [
    "# Define the table name where you want to load the data\n",
    "schema = 'statements_enriched'\n",
    "table_name = 'lloyds_enriched'\n",
    "\n",
    "# Load the DataFrame into the SQL table\n",
    "df.to_sql(table_name, con=engine, schema=schema, if_exists='replace', index=False)\n",
    "\n",
    "print(f\"Data has been successfully loaded into the '{schema}.{table_name}' table.\")\n"
   ]
  },
  {
   "cell_type": "code",
   "execution_count": 78,
   "metadata": {},
   "outputs": [
    {
     "data": {
      "text/plain": [
       "Index(['transaction_date', 'year', 'month', 'day', 'description', 'tag',\n",
       "       'type', 'money_in', 'money_out', 'balance'],\n",
       "      dtype='object')"
      ]
     },
     "execution_count": 78,
     "metadata": {},
     "output_type": "execute_result"
    }
   ],
   "source": [
    "query = \"SELECT * FROM statements_staging.lloyds_staging\"\n",
    "pd.read_sql(query,engine).columns"
   ]
  },
  {
   "cell_type": "code",
   "execution_count": 82,
   "metadata": {},
   "outputs": [
    {
     "data": {
      "text/plain": [
       "category\n",
       "Bills                  0.00\n",
       "Eating out             0.00\n",
       "Entertainment          0.00\n",
       "Groceries              0.00\n",
       "Health & Beauty        0.00\n",
       "Income             20780.48\n",
       "Investment           384.55\n",
       "Loan                3528.32\n",
       "Other                900.47\n",
       "Rent                 743.49\n",
       "Savings              350.00\n",
       "Shopping               4.49\n",
       "Study                  0.00\n",
       "Transfers           4906.57\n",
       "Transport            228.05\n",
       "Name: money_in, dtype: float64"
      ]
     },
     "execution_count": 82,
     "metadata": {},
     "output_type": "execute_result"
    }
   ],
   "source": [
    "df.groupby(\"category\")['money_in'].sum()"
   ]
  },
  {
   "cell_type": "code",
   "execution_count": null,
   "metadata": {},
   "outputs": [],
   "source": []
  }
 ],
 "metadata": {
  "kernelspec": {
   "display_name": "api",
   "language": "python",
   "name": "python3"
  },
  "language_info": {
   "codemirror_mode": {
    "name": "ipython",
    "version": 3
   },
   "file_extension": ".py",
   "mimetype": "text/x-python",
   "name": "python",
   "nbconvert_exporter": "python",
   "pygments_lexer": "ipython3",
   "version": "3.12.2"
  }
 },
 "nbformat": 4,
 "nbformat_minor": 2
}
